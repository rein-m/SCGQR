{
 "cells": [
  {
   "cell_type": "markdown",
   "metadata": {},
   "source": [
    "<h1>ML Variance Model that predicts daily volatility of stock using linear regression</h1>"
   ]
  },
  {
   "cell_type": "markdown",
   "metadata": {},
   "source": [
    "gathering data from yfinance\n"
   ]
  },
  {
   "cell_type": "code",
   "execution_count": 4,
   "metadata": {},
   "outputs": [
    {
     "name": "stderr",
     "output_type": "stream",
     "text": [
      "[*********************100%***********************]  1 of 1 completed"
     ]
    },
    {
     "name": "stderr",
     "output_type": "stream",
     "text": [
      "\n"
     ]
    },
    {
     "data": {
      "text/html": [
       "<div>\n",
       "<style scoped>\n",
       "    .dataframe tbody tr th:only-of-type {\n",
       "        vertical-align: middle;\n",
       "    }\n",
       "\n",
       "    .dataframe tbody tr th {\n",
       "        vertical-align: top;\n",
       "    }\n",
       "\n",
       "    .dataframe thead tr th {\n",
       "        text-align: left;\n",
       "    }\n",
       "\n",
       "    .dataframe thead tr:last-of-type th {\n",
       "        text-align: right;\n",
       "    }\n",
       "</style>\n",
       "<table border=\"1\" class=\"dataframe\">\n",
       "  <thead>\n",
       "    <tr>\n",
       "      <th>Price</th>\n",
       "      <th>Adj Close</th>\n",
       "      <th>Close</th>\n",
       "      <th>High</th>\n",
       "      <th>Low</th>\n",
       "      <th>Open</th>\n",
       "      <th>Volume</th>\n",
       "    </tr>\n",
       "    <tr>\n",
       "      <th>Ticker</th>\n",
       "      <th>AAPL</th>\n",
       "      <th>AAPL</th>\n",
       "      <th>AAPL</th>\n",
       "      <th>AAPL</th>\n",
       "      <th>AAPL</th>\n",
       "      <th>AAPL</th>\n",
       "    </tr>\n",
       "    <tr>\n",
       "      <th>Date</th>\n",
       "      <th></th>\n",
       "      <th></th>\n",
       "      <th></th>\n",
       "      <th></th>\n",
       "      <th></th>\n",
       "      <th></th>\n",
       "    </tr>\n",
       "  </thead>\n",
       "  <tbody>\n",
       "    <tr>\n",
       "      <th>2022-01-03</th>\n",
       "      <td>179.076599</td>\n",
       "      <td>182.009995</td>\n",
       "      <td>182.880005</td>\n",
       "      <td>177.710007</td>\n",
       "      <td>177.830002</td>\n",
       "      <td>104487900</td>\n",
       "    </tr>\n",
       "    <tr>\n",
       "      <th>2022-01-04</th>\n",
       "      <td>176.803833</td>\n",
       "      <td>179.699997</td>\n",
       "      <td>182.940002</td>\n",
       "      <td>179.119995</td>\n",
       "      <td>182.630005</td>\n",
       "      <td>99310400</td>\n",
       "    </tr>\n",
       "    <tr>\n",
       "      <th>2022-01-05</th>\n",
       "      <td>172.100861</td>\n",
       "      <td>174.919998</td>\n",
       "      <td>180.169998</td>\n",
       "      <td>174.639999</td>\n",
       "      <td>179.610001</td>\n",
       "      <td>94537600</td>\n",
       "    </tr>\n",
       "    <tr>\n",
       "      <th>2022-01-06</th>\n",
       "      <td>169.227936</td>\n",
       "      <td>172.000000</td>\n",
       "      <td>175.300003</td>\n",
       "      <td>171.639999</td>\n",
       "      <td>172.699997</td>\n",
       "      <td>96904000</td>\n",
       "    </tr>\n",
       "    <tr>\n",
       "      <th>2022-01-07</th>\n",
       "      <td>169.395187</td>\n",
       "      <td>172.169998</td>\n",
       "      <td>174.139999</td>\n",
       "      <td>171.029999</td>\n",
       "      <td>172.889999</td>\n",
       "      <td>86709100</td>\n",
       "    </tr>\n",
       "  </tbody>\n",
       "</table>\n",
       "</div>"
      ],
      "text/plain": [
       "Price        Adj Close       Close        High         Low        Open  \\\n",
       "Ticker            AAPL        AAPL        AAPL        AAPL        AAPL   \n",
       "Date                                                                     \n",
       "2022-01-03  179.076599  182.009995  182.880005  177.710007  177.830002   \n",
       "2022-01-04  176.803833  179.699997  182.940002  179.119995  182.630005   \n",
       "2022-01-05  172.100861  174.919998  180.169998  174.639999  179.610001   \n",
       "2022-01-06  169.227936  172.000000  175.300003  171.639999  172.699997   \n",
       "2022-01-07  169.395187  172.169998  174.139999  171.029999  172.889999   \n",
       "\n",
       "Price          Volume  \n",
       "Ticker           AAPL  \n",
       "Date                   \n",
       "2022-01-03  104487900  \n",
       "2022-01-04   99310400  \n",
       "2022-01-05   94537600  \n",
       "2022-01-06   96904000  \n",
       "2022-01-07   86709100  "
      ]
     },
     "execution_count": 4,
     "metadata": {},
     "output_type": "execute_result"
    }
   ],
   "source": [
    "import yfinance as yf\n",
    "import numpy as np\n",
    "import matplotlib as plt\n",
    "\n",
    "ticker = yf.Ticker('AAPL')\n",
    "data = yf.download('AAPL', start='2022-01-01', end='2024-01-01') #input desired stock ticker here\n",
    "volume = ticker.info[\"averageVolume10days\"]\n",
    "\n",
    "data.head()\n"
   ]
  },
  {
   "cell_type": "markdown",
   "metadata": {},
   "source": [
    "</h2>calculate daily returns and volatility</h2>"
   ]
  },
  {
   "cell_type": "code",
   "execution_count": null,
   "metadata": {},
   "outputs": [],
   "source": [
    "# Calculate daily returns (returns list of percentage change for each day compared to previous)\n",
    "data['Return'] = data['Adj Close'].pct_change()\n",
    "\n",
    "# Calculate rolling variance (volatility) over a 20-day window\n",
    "data['Volatility'] = data['Return'].rolling(window=20).var()\n",
    "\n",
    "# Drop rows with NaN values resulting from calculations\n",
    "data.dropna(inplace=True)\n",
    "\n",
    "# Display the updated data\n",
    "data[['Return', 'Volatility']].head()"
   ]
  },
  {
   "cell_type": "markdown",
   "metadata": {},
   "source": [
    "use previous day's volatility and moving average as features"
   ]
  },
  {
   "cell_type": "code",
   "execution_count": null,
   "metadata": {},
   "outputs": [],
   "source": [
    "# Feature 1: Previous day's volatility\n",
    "data['Volatility_Lag1'] = data['Volatility'].shift(1)\n",
    "\n",
    "# Feature 2: 20-day moving average of returns\n",
    "data['MA_Return'] = data['Return'].rolling(window=20).mean()\n",
    "\n",
    "# Drop any new NaN values (i.e. empty values)\n",
    "data.dropna(inplace=True)\n",
    "\n",
    "# Define feature matrix X and target vector y\n",
    "X = data[['Volatility_Lag1', 'MA_Return']]\n",
    "y = data['Volatility']"
   ]
  },
  {
   "cell_type": "markdown",
   "metadata": {},
   "source": [
    "split data (use 80 20 ratio for training and testing)"
   ]
  },
  {
   "cell_type": "code",
   "execution_count": null,
   "metadata": {},
   "outputs": [],
   "source": [
    "from sklearn.model_selection import train_test_split\n",
    "\n",
    "# Since it's time series, we'll split based on index\n",
    "split_ratio = 0.8\n",
    "split_index = int(len(X) * split_ratio)\n",
    "\n",
    "X_train, X_test = X.iloc[:split_index], X.iloc[split_index:]\n",
    "y_train, y_test = y.iloc[:split_index], y.iloc[split_index:]\n"
   ]
  }
 ],
 "metadata": {
  "kernelspec": {
   "display_name": "nelonmelon",
   "language": "python",
   "name": "python3"
  },
  "language_info": {
   "codemirror_mode": {
    "name": "ipython",
    "version": 3
   },
   "file_extension": ".py",
   "mimetype": "text/x-python",
   "name": "python",
   "nbconvert_exporter": "python",
   "pygments_lexer": "ipython3",
   "version": "3.12.7"
  }
 },
 "nbformat": 4,
 "nbformat_minor": 2
}
